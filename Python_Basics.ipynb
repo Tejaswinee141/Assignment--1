{
  "nbformat": 4,
  "nbformat_minor": 0,
  "metadata": {
    "colab": {
      "provenance": []
    },
    "kernelspec": {
      "name": "python3",
      "display_name": "Python 3"
    },
    "language_info": {
      "name": "python"
    }
  },
  "cells": [
    {
      "cell_type": "markdown",
      "source": [
        "# **Python Basics**\n",
        "**Q.1   What is Python, and why is it popular?**\n",
        "- Python is a programming language that is interpreted, object-oriented, and considered to be high-level.\n",
        "- It is one of the easiest yet most useful programming languages and is widely used in the software industry. People use Python for Competitive Programming, Web Development, and creating software.\n",
        "- It is popular because of its simplicity and readability,versatility,huge community support and it's powerful libraries.\n",
        "\n",
        "**Q.2   What is an interpreter in Python?**\n",
        "- An interpreter in Python is a program that reads and executes Python code line by line. Instead of compiling the entire program into machine code (like C or Java does with a compiler), the interpreter translates each line of Python into an intermediate form and executes it immediately.\n",
        "\n",
        "**Q.3   What are pre-defined keywords in Python?**\n",
        "- Pre-defined keywords in Python are reserved words that have special meaning in the language. These words are used to define the syntax and structure of Python programs, and we cannot use them as variable names, function names, or identifiers.\n",
        "For example :- if, elif, else, for, def, while, return etc.\n",
        "\n",
        "**Q.4  Can keywords be used as variable names?**\n",
        "- No, keywords cannot be used as variable names in Python.\n",
        "\n",
        "**Q.5  What is mutability in Python?**\n",
        "- In Python, mutability refers to the ability of an object to be modified after it's created.\n",
        "-Mutable objects can be changed in place, meaning their content or state can be altered without creating a new object. Examples: List, Disctionary, Set.\n",
        "- Immutable objects, on the other hand, cannot be changed after they are created. Any operation that appears to modify an immutable object actually creates a new object. Examples: Integers, Floats, Strings, Boolean, Tuples.\n",
        "\n",
        "**Q.6  Why are lists mutable, but tuples are immutable?**\n",
        "- Lists are mutable because they are designed to be flexible, allowing elements to be added, removed, or changed after the list is created—this is useful for dynamic data handling.\n",
        "-Tuples are immutable by design to ensure data integrity and make them hashable, which allows their use as keys in dictionaries and elements in sets. This immutability provides a guarantee that their contents won’t change, which can lead to safer, more predictable code and potential performance optimizations by Python.\n",
        "\n",
        "**Q.7   What is the difference between “==” and “is” operators in Python?**\n",
        "- In Python, == checks value equality, meaning it compares whether the values of two objects are the same, while is checks identity, meaning it compares whether two references point to the exact same object in memory.\n",
        "\n",
        "**Q.8   What are logical operators in Python?**\n",
        "- Logical operators in Python are used to combine conditional statements and evaluate their truth value. The logical operators are:\n",
        "\n",
        "**and:** Returns True if both operands are True.\n",
        "\n",
        "Example: True and False returns False\n",
        "\n",
        "**or:** Returns True if at least one of the operands is True.\n",
        "\n",
        "Example: True or False returns True\n",
        "\n",
        "**not:** Reverses the truth value of the operand (negation).\n",
        "\n",
        "Example: not True returns False\n",
        "\n",
        "**Q.9    What is type casting in Python?**  \n",
        "- Type casting in Python refers to the process of converting a variable from one data type to another. This can be done explicitly using functions like int(), float(), str(), etc., to convert between types such as integers, floats, and strings. For example, int(\"10\") converts the string \"10\" into the integer 10.\n",
        "\n",
        "**Q.10  What is the difference between implicit and explicit type casting?**\n",
        "- **Implicit Type Casting :** This happens automatically when Python converts one data type to another without the programmer's intervention. It usually occurs when a smaller data type is assigned to a larger data type (e.g., an integer to a float). Python does this to avoid data loss.\n",
        "-**Explicit Type Casting:** This is when the programmer manually converts one data type to another using type conversion functions like int(), float(), str(), etc.\n",
        "\n",
        "**Q.11   What is the purpose of conditional statements in Python?**\n",
        "- The purpose of conditional statements in Python is to allow the program to make decisions based on certain conditions. They enable the execution of specific blocks of code depending on whether a given condition evaluates to True or False. This helps in controlling the flow of the program, making it more dynamic and responsive to different inputs or situations.\n",
        "\n",
        "**Q.12  How does the elif statement work?**\n",
        "- The elif statement in Python stands for \"else if\" and is used to check multiple conditions after an initial if condition. It allows your program to choose between several blocks of code to execute, depending on which condition is True.\n",
        "\n",
        "**Q.13  What is the difference between for and while loops?**\n",
        "- **for**  loop is used when you know in advance how many times you want to loop. It iterates over a sequence (like a list, tuple, string, or range).\n",
        "-**while** loop is used when you want to repeat a block of code as long as a condition is true, and you don’t necessarily know how many times it will run.\n",
        "\n",
        "**Q.14   Describe a scenario where a while loop is more suitable than a for loop.**\n",
        "- A while loop is more suitable when the number of iterations is not known in advance and depends on a condition that changes dynamically, such as waiting for user input, checking for a sensor value, or validating login attempts.\n",
        "**Scenario: User Login Attempt**\n",
        "-Imagine you want to keep asking a user to enter the correct password until they get it right. You don’t know how many attempts they'll need, so a while loop is ideal.\n",
        "\n",
        "correct_password = \"python123\"\n",
        "\n",
        "user_input = \"\"\n",
        "\n",
        "while user_input != correct_password:\n",
        "\n",
        "          user_input = input(\"Enter password: \")\n",
        "\n",
        "print(\"Access granted!\")\n",
        "\n",
        "\n"
      ],
      "metadata": {
        "id": "Z7lkUjPcx-T2"
      }
    },
    {
      "cell_type": "code",
      "source": [
        "# Practical Questions\n",
        "#1. Write a Python program to print \"Hello, World!\"\n",
        "print(\"Hello, World!\")"
      ],
      "metadata": {
        "colab": {
          "base_uri": "https://localhost:8080/"
        },
        "id": "ywRoPUueILzp",
        "outputId": "ddb7fe4b-fb50-4d62-d01e-8940c5749dee"
      },
      "execution_count": null,
      "outputs": [
        {
          "output_type": "stream",
          "name": "stdout",
          "text": [
            "Hello, World!\n"
          ]
        }
      ]
    },
    {
      "cell_type": "code",
      "source": [
        "#2.  Write a Python program that displays your name and age\n",
        "name = input(\"Enter your name: \")\n",
        "age = int(input(\"Enter your age: \"))\n",
        "print(\"Name:\", name)\n",
        "print(\"Age:\", age)"
      ],
      "metadata": {
        "colab": {
          "base_uri": "https://localhost:8080/"
        },
        "id": "dwzrE8R_LBMb",
        "outputId": "9ea0b1cf-f098-46b1-e546-70812578e013"
      },
      "execution_count": null,
      "outputs": [
        {
          "output_type": "stream",
          "name": "stdout",
          "text": [
            "Enter your name: Tejaswinee\n",
            "Enter your age: 23\n",
            "Name: Tejaswinee\n",
            "Age: 23\n"
          ]
        }
      ]
    },
    {
      "cell_type": "code",
      "source": [
        "#3.  Write code to print all the pre-defined keywords in Python using the keyword library\n",
        "help(\"keywords\")"
      ],
      "metadata": {
        "colab": {
          "base_uri": "https://localhost:8080/"
        },
        "id": "tZ9wZGZ1LrQ7",
        "outputId": "3aeba949-0e26-432e-8938-67dd87ce477f"
      },
      "execution_count": null,
      "outputs": [
        {
          "output_type": "stream",
          "name": "stdout",
          "text": [
            "\n",
            "Here is a list of the Python keywords.  Enter any keyword to get more help.\n",
            "\n",
            "False               class               from                or\n",
            "None                continue            global              pass\n",
            "True                def                 if                  raise\n",
            "and                 del                 import              return\n",
            "as                  elif                in                  try\n",
            "assert              else                is                  while\n",
            "async               except              lambda              with\n",
            "await               finally             nonlocal            yield\n",
            "break               for                 not                 \n",
            "\n"
          ]
        }
      ]
    },
    {
      "cell_type": "code",
      "source": [
        "#4 Write a program that checks if a given word is a Python keyword\n",
        "import keyword\n",
        "word = input(\"Enter a word: \")\n",
        "if keyword.iskeyword(word):\n",
        "    print(f\"{word} is a Python keyword.\")\n",
        "else:\n",
        "    print(f\"{word} is not a Python keyword.\")"
      ],
      "metadata": {
        "colab": {
          "base_uri": "https://localhost:8080/"
        },
        "id": "cOmAdBxgUB8f",
        "outputId": "abc19c45-679d-4ee4-e307-7ab7269e98b0"
      },
      "execution_count": null,
      "outputs": [
        {
          "output_type": "stream",
          "name": "stdout",
          "text": [
            "Enter a word: World\n",
            "World is not a Python keyword.\n"
          ]
        }
      ]
    },
    {
      "cell_type": "code",
      "source": [
        "#5 Create a list and tuple in Python, and demonstrate how attempting to change an element works differently for each\n",
        "list = [10,20,30]\n",
        "print(list)\n",
        "list[1] = 50\n",
        "print(list)"
      ],
      "metadata": {
        "colab": {
          "base_uri": "https://localhost:8080/"
        },
        "id": "LfhdJNudUSXf",
        "outputId": "d312ebb1-c247-414e-b9d9-9355c714bbf7"
      },
      "execution_count": null,
      "outputs": [
        {
          "output_type": "stream",
          "name": "stdout",
          "text": [
            "[10, 20, 30]\n",
            "[10, 50, 30]\n"
          ]
        }
      ]
    },
    {
      "cell_type": "code",
      "source": [
        "tuple = (10,20,30)\n",
        "print(tuple)\n",
        "tuple[1] = 50\n",
        "print(tuple)"
      ],
      "metadata": {
        "colab": {
          "base_uri": "https://localhost:8080/",
          "height": 211
        },
        "id": "wcZlP5IiV7Ky",
        "outputId": "ce1292fc-4852-4889-ad8a-f7f8c856450f"
      },
      "execution_count": null,
      "outputs": [
        {
          "output_type": "stream",
          "name": "stdout",
          "text": [
            "(10, 20, 30)\n"
          ]
        },
        {
          "output_type": "error",
          "ename": "TypeError",
          "evalue": "'tuple' object does not support item assignment",
          "traceback": [
            "\u001b[0;31m---------------------------------------------------------------------------\u001b[0m",
            "\u001b[0;31mTypeError\u001b[0m                                 Traceback (most recent call last)",
            "\u001b[0;32m<ipython-input-25-4c1c74448230>\u001b[0m in \u001b[0;36m<cell line: 0>\u001b[0;34m()\u001b[0m\n\u001b[1;32m      1\u001b[0m \u001b[0mtuple\u001b[0m \u001b[0;34m=\u001b[0m \u001b[0;34m(\u001b[0m\u001b[0;36m10\u001b[0m\u001b[0;34m,\u001b[0m\u001b[0;36m20\u001b[0m\u001b[0;34m,\u001b[0m\u001b[0;36m30\u001b[0m\u001b[0;34m)\u001b[0m\u001b[0;34m\u001b[0m\u001b[0;34m\u001b[0m\u001b[0m\n\u001b[1;32m      2\u001b[0m \u001b[0mprint\u001b[0m\u001b[0;34m(\u001b[0m\u001b[0mtuple\u001b[0m\u001b[0;34m)\u001b[0m\u001b[0;34m\u001b[0m\u001b[0;34m\u001b[0m\u001b[0m\n\u001b[0;32m----> 3\u001b[0;31m \u001b[0mtuple\u001b[0m\u001b[0;34m[\u001b[0m\u001b[0;36m1\u001b[0m\u001b[0;34m]\u001b[0m \u001b[0;34m=\u001b[0m \u001b[0;36m50\u001b[0m\u001b[0;34m\u001b[0m\u001b[0;34m\u001b[0m\u001b[0m\n\u001b[0m\u001b[1;32m      4\u001b[0m \u001b[0mprint\u001b[0m\u001b[0;34m(\u001b[0m\u001b[0mtuple\u001b[0m\u001b[0;34m)\u001b[0m\u001b[0;34m\u001b[0m\u001b[0;34m\u001b[0m\u001b[0m\n",
            "\u001b[0;31mTypeError\u001b[0m: 'tuple' object does not support item assignment"
          ]
        }
      ]
    },
    {
      "cell_type": "code",
      "source": [
        "#6 Write a function to demonstrate the behavior of mutable and immutable arguments.\n",
        "a = (10,20,30)\n",
        "a[1]=50\n",
        "print(a)\n",
        "#Tuple is immutable. When we try to modify a tuple, Python raises an error (e.g., TypeError)."
      ],
      "metadata": {
        "colab": {
          "base_uri": "https://localhost:8080/",
          "height": 211
        },
        "id": "6jW1NDqvWBPa",
        "outputId": "4bf67366-7090-4989-917d-4d17590382b5"
      },
      "execution_count": null,
      "outputs": [
        {
          "output_type": "error",
          "ename": "TypeError",
          "evalue": "'tuple' object does not support item assignment",
          "traceback": [
            "\u001b[0;31m---------------------------------------------------------------------------\u001b[0m",
            "\u001b[0;31mTypeError\u001b[0m                                 Traceback (most recent call last)",
            "\u001b[0;32m<ipython-input-30-6befbef6efe5>\u001b[0m in \u001b[0;36m<cell line: 0>\u001b[0;34m()\u001b[0m\n\u001b[1;32m      1\u001b[0m \u001b[0;31m#6 Write a function to demonstrate the behavior of mutable and immutable arguments.\u001b[0m\u001b[0;34m\u001b[0m\u001b[0;34m\u001b[0m\u001b[0m\n\u001b[1;32m      2\u001b[0m \u001b[0ma\u001b[0m \u001b[0;34m=\u001b[0m \u001b[0;34m(\u001b[0m\u001b[0;36m10\u001b[0m\u001b[0;34m,\u001b[0m\u001b[0;36m20\u001b[0m\u001b[0;34m,\u001b[0m\u001b[0;36m30\u001b[0m\u001b[0;34m)\u001b[0m\u001b[0;34m\u001b[0m\u001b[0;34m\u001b[0m\u001b[0m\n\u001b[0;32m----> 3\u001b[0;31m \u001b[0ma\u001b[0m\u001b[0;34m[\u001b[0m\u001b[0;36m1\u001b[0m\u001b[0;34m]\u001b[0m\u001b[0;34m=\u001b[0m\u001b[0;36m50\u001b[0m\u001b[0;34m\u001b[0m\u001b[0;34m\u001b[0m\u001b[0m\n\u001b[0m\u001b[1;32m      4\u001b[0m \u001b[0mprint\u001b[0m\u001b[0;34m(\u001b[0m\u001b[0ma\u001b[0m\u001b[0;34m)\u001b[0m\u001b[0;34m\u001b[0m\u001b[0;34m\u001b[0m\u001b[0m\n\u001b[1;32m      5\u001b[0m \u001b[0;31m#Tuple is immutable. When we try to modify a tuple, Python raises an error (e.g., TypeError).\u001b[0m\u001b[0;34m\u001b[0m\u001b[0;34m\u001b[0m\u001b[0m\n",
            "\u001b[0;31mTypeError\u001b[0m: 'tuple' object does not support item assignment"
          ]
        }
      ]
    },
    {
      "cell_type": "code",
      "source": [
        "b = [1,53,78]\n",
        "b[0]=100\n",
        "print(b)\n",
        "#List is mutable. The list can be modified inside the function, and the changes persist outside the function."
      ],
      "metadata": {
        "colab": {
          "base_uri": "https://localhost:8080/"
        },
        "id": "CNFVKFEdaspJ",
        "outputId": "09b198d1-b09c-4341-bd42-eda3c9a401a8"
      },
      "execution_count": null,
      "outputs": [
        {
          "output_type": "stream",
          "name": "stdout",
          "text": [
            "[100, 53, 78]\n"
          ]
        }
      ]
    },
    {
      "cell_type": "code",
      "source": [
        "#7 Write a program that performs basic arithmetic operations on two user-input numbers.\n",
        "num1 = int(input(\"Enter first number: \"))\n",
        "num2 = int(input(\"Enter second number: \"))\n",
        "print(\"Addition:\", num1 + num2)\n",
        "print(\"Subtraction:\", num1 - num2)\n",
        "print(\"Multiplication:\", num1 * num2)\n",
        "print(\"Division:\", num1 / num2)\n"
      ],
      "metadata": {
        "colab": {
          "base_uri": "https://localhost:8080/"
        },
        "id": "G-mRhNqjbjpj",
        "outputId": "85090818-4e7b-4190-a647-7ace67d06bdb"
      },
      "execution_count": null,
      "outputs": [
        {
          "output_type": "stream",
          "name": "stdout",
          "text": [
            "Enter first number: 25\n",
            "Enter second number: 5\n",
            "Addition: 30\n",
            "Subtraction: 20\n",
            "Multiplication: 125\n",
            "Division: 5.0\n"
          ]
        }
      ]
    },
    {
      "cell_type": "code",
      "source": [
        "#8 Write a program to demonstrate the use of logical operators.\n",
        "print(True and False)\n",
        "print(True or False)\n",
        "print(not True)\n"
      ],
      "metadata": {
        "colab": {
          "base_uri": "https://localhost:8080/"
        },
        "id": "aNhaIApodbi4",
        "outputId": "9a545d2c-1982-416a-fda5-9f6685b25dcd"
      },
      "execution_count": null,
      "outputs": [
        {
          "output_type": "stream",
          "name": "stdout",
          "text": [
            "False\n",
            "True\n",
            "False\n"
          ]
        }
      ]
    },
    {
      "cell_type": "code",
      "source": [
        "#9 Write a Python program to convert user input from string to integer, float, and boolean types.\n",
        "input(\"Enter your age: \")"
      ],
      "metadata": {
        "colab": {
          "base_uri": "https://localhost:8080/",
          "height": 53
        },
        "id": "guMj8cxHgWtJ",
        "outputId": "62976281-bb4d-4703-bce4-afd98b826910"
      },
      "execution_count": null,
      "outputs": [
        {
          "name": "stdout",
          "output_type": "stream",
          "text": [
            "Enter your age: 25\n"
          ]
        },
        {
          "output_type": "execute_result",
          "data": {
            "text/plain": [
              "'25'"
            ],
            "application/vnd.google.colaboratory.intrinsic+json": {
              "type": "string"
            }
          },
          "metadata": {},
          "execution_count": 39
        }
      ]
    },
    {
      "cell_type": "code",
      "source": [
        "int(input(\"Enter your age: \"))"
      ],
      "metadata": {
        "colab": {
          "base_uri": "https://localhost:8080/"
        },
        "id": "xp54K9bOiOTc",
        "outputId": "c9c29b4e-c68c-4572-8c90-dbbba69a008e"
      },
      "execution_count": null,
      "outputs": [
        {
          "name": "stdout",
          "output_type": "stream",
          "text": [
            "Enter your age: 24\n"
          ]
        },
        {
          "output_type": "execute_result",
          "data": {
            "text/plain": [
              "24"
            ]
          },
          "metadata": {},
          "execution_count": 43
        }
      ]
    },
    {
      "cell_type": "code",
      "source": [
        "float(input(\"Enter your age: \"))"
      ],
      "metadata": {
        "colab": {
          "base_uri": "https://localhost:8080/"
        },
        "id": "zCECXjWFiWjz",
        "outputId": "16979848-779d-4606-8db1-fb75f4186520"
      },
      "execution_count": null,
      "outputs": [
        {
          "name": "stdout",
          "output_type": "stream",
          "text": [
            "Enter your age: 24\n"
          ]
        },
        {
          "output_type": "execute_result",
          "data": {
            "text/plain": [
              "24.0"
            ]
          },
          "metadata": {},
          "execution_count": 44
        }
      ]
    },
    {
      "cell_type": "code",
      "source": [
        "bool(input(\"Enter your age: \"))"
      ],
      "metadata": {
        "colab": {
          "base_uri": "https://localhost:8080/"
        },
        "id": "8wZkxatoijsz",
        "outputId": "067d5dcb-bb1a-42e3-c51a-6fa13943c376"
      },
      "execution_count": null,
      "outputs": [
        {
          "name": "stdout",
          "output_type": "stream",
          "text": [
            "Enter your age: 24\n"
          ]
        },
        {
          "output_type": "execute_result",
          "data": {
            "text/plain": [
              "True"
            ]
          },
          "metadata": {},
          "execution_count": 45
        }
      ]
    },
    {
      "cell_type": "code",
      "source": [
        "#10 Write code to demonstrate type casting with list elements.\n",
        "list =  [\"10\", \"20\", \"30.5\", \"40.8\", \"50\"]\n",
        "casted_to_int = [int(float(item)) if \".\" in item else int(item) for item in list]\n",
        "casted_to_float = [float(item) for item in list]\n",
        "print(\"Original List:\",list)\n",
        "print(\"List with elements casted to integers:\", casted_to_int)\n",
        "print(\"List with elements casted to floats:\", casted_to_float)\n",
        "\n"
      ],
      "metadata": {
        "colab": {
          "base_uri": "https://localhost:8080/"
        },
        "id": "d9vDEtlqlcai",
        "outputId": "f9332cd7-30f1-4579-9a5f-ba3b991ad9ac"
      },
      "execution_count": null,
      "outputs": [
        {
          "output_type": "stream",
          "name": "stdout",
          "text": [
            "Original List: ['10', '20', '30.5', '40.8', '50']\n",
            "List with elements casted to integers: [10, 20, 30, 40, 50]\n",
            "List with elements casted to floats: [10.0, 20.0, 30.5, 40.8, 50.0]\n"
          ]
        }
      ]
    },
    {
      "cell_type": "code",
      "source": [
        "#11  Write a program that checks if a number is positive, negative, or zero.\n",
        "\n",
        "def check_number_sign():\n",
        "  number = float(input(\"Enter a number: \"))\n",
        "  if number > 0:\n",
        "        print(\"The number is positive,\")\n",
        "  elif number < 0:\n",
        "        print(\"The number is negative.\")\n",
        "  else:\n",
        "        print(\"The number is zero.\")"
      ],
      "metadata": {
        "id": "NzWDdV4_mHtL"
      },
      "execution_count": null,
      "outputs": []
    },
    {
      "cell_type": "code",
      "source": [
        "def check_number_sign():\n",
        "  number = float(input(\"Enter a number: \"))\n",
        "  if number > 0:\n",
        "        print(\"The number is positive,\")\n",
        "  elif number < 0:\n",
        "        print(\"The number is negative.\")\n",
        "  else:\n",
        "        print(\"The number is zero.\")"
      ],
      "metadata": {
        "id": "VSoT0bWXnc98"
      },
      "execution_count": null,
      "outputs": []
    },
    {
      "cell_type": "code",
      "source": [
        "#12 Write a for loop to print numbers from 1 to 10\n",
        "for i in range(11):\n",
        "  print(i)\n",
        "  i=i+1\n"
      ],
      "metadata": {
        "colab": {
          "base_uri": "https://localhost:8080/"
        },
        "id": "6xFSz1kTy0VS",
        "outputId": "4b96de7b-a91e-4e51-c662-6f3309c70cda"
      },
      "execution_count": 72,
      "outputs": [
        {
          "output_type": "stream",
          "name": "stdout",
          "text": [
            "0\n",
            "1\n",
            "2\n",
            "3\n",
            "4\n",
            "5\n",
            "6\n",
            "7\n",
            "8\n",
            "9\n",
            "10\n"
          ]
        }
      ]
    },
    {
      "cell_type": "code",
      "source": [
        "#13 Write a Python program to find the sum of all even numbers between 1 and 50.\n",
        "even_sum = 0\n",
        "for number in range(1, 51):\n",
        "    if number % 2 == 0:\n",
        "         print(\"The sum of all even numbers between 1 and 50 is:\", even_sum)"
      ],
      "metadata": {
        "colab": {
          "base_uri": "https://localhost:8080/"
        },
        "id": "aW8AIdgpzew-",
        "outputId": "acb6b9d1-3442-4419-ec8e-f3ed1af83913"
      },
      "execution_count": 78,
      "outputs": [
        {
          "output_type": "stream",
          "name": "stdout",
          "text": [
            "The sum of all even numbers between 1 and 50 is: 0\n",
            "The sum of all even numbers between 1 and 50 is: 0\n",
            "The sum of all even numbers between 1 and 50 is: 0\n",
            "The sum of all even numbers between 1 and 50 is: 0\n",
            "The sum of all even numbers between 1 and 50 is: 0\n",
            "The sum of all even numbers between 1 and 50 is: 0\n",
            "The sum of all even numbers between 1 and 50 is: 0\n",
            "The sum of all even numbers between 1 and 50 is: 0\n",
            "The sum of all even numbers between 1 and 50 is: 0\n",
            "The sum of all even numbers between 1 and 50 is: 0\n",
            "The sum of all even numbers between 1 and 50 is: 0\n",
            "The sum of all even numbers between 1 and 50 is: 0\n",
            "The sum of all even numbers between 1 and 50 is: 0\n",
            "The sum of all even numbers between 1 and 50 is: 0\n",
            "The sum of all even numbers between 1 and 50 is: 0\n",
            "The sum of all even numbers between 1 and 50 is: 0\n",
            "The sum of all even numbers between 1 and 50 is: 0\n",
            "The sum of all even numbers between 1 and 50 is: 0\n",
            "The sum of all even numbers between 1 and 50 is: 0\n",
            "The sum of all even numbers between 1 and 50 is: 0\n",
            "The sum of all even numbers between 1 and 50 is: 0\n",
            "The sum of all even numbers between 1 and 50 is: 0\n",
            "The sum of all even numbers between 1 and 50 is: 0\n",
            "The sum of all even numbers between 1 and 50 is: 0\n",
            "The sum of all even numbers between 1 and 50 is: 0\n",
            "The sum of all even numbers between 1 and 50 is: 0\n",
            "The sum of all even numbers between 1 and 50 is: 0\n",
            "The sum of all even numbers between 1 and 50 is: 0\n",
            "The sum of all even numbers between 1 and 50 is: 0\n",
            "The sum of all even numbers between 1 and 50 is: 0\n",
            "The sum of all even numbers between 1 and 50 is: 0\n",
            "The sum of all even numbers between 1 and 50 is: 0\n",
            "The sum of all even numbers between 1 and 50 is: 0\n",
            "The sum of all even numbers between 1 and 50 is: 0\n",
            "The sum of all even numbers between 1 and 50 is: 0\n",
            "The sum of all even numbers between 1 and 50 is: 0\n",
            "The sum of all even numbers between 1 and 50 is: 0\n",
            "The sum of all even numbers between 1 and 50 is: 0\n",
            "The sum of all even numbers between 1 and 50 is: 0\n",
            "The sum of all even numbers between 1 and 50 is: 0\n",
            "The sum of all even numbers between 1 and 50 is: 0\n",
            "The sum of all even numbers between 1 and 50 is: 0\n",
            "The sum of all even numbers between 1 and 50 is: 0\n",
            "The sum of all even numbers between 1 and 50 is: 0\n",
            "The sum of all even numbers between 1 and 50 is: 0\n",
            "The sum of all even numbers between 1 and 50 is: 0\n",
            "The sum of all even numbers between 1 and 50 is: 0\n",
            "The sum of all even numbers between 1 and 50 is: 0\n",
            "The sum of all even numbers between 1 and 50 is: 0\n",
            "The sum of all even numbers between 1 and 50 is: 0\n"
          ]
        }
      ]
    },
    {
      "cell_type": "code",
      "source": [
        "#14  Write a program to reverse a string using a while loop\n",
        "text = \"Hello, world!\"\n",
        "reversed_text = \"\"\n",
        "index = len(text) - 1\n",
        "while index >= 0:\n",
        "    reversed_text += text[index]\n",
        "    index -= 1\n",
        "print(\"Reversed string:\", reversed_text)"
      ],
      "metadata": {
        "colab": {
          "base_uri": "https://localhost:8080/"
        },
        "id": "wxGhb9Ek8put",
        "outputId": "66f01de9-301a-4027-d28d-593b38cd13ed"
      },
      "execution_count": 79,
      "outputs": [
        {
          "output_type": "stream",
          "name": "stdout",
          "text": [
            "Reversed string: !dlrow ,olleH\n"
          ]
        }
      ]
    },
    {
      "cell_type": "code",
      "source": [
        "#15 Write a Python program to calculate the factorial of a number provided by the user using a while loop\n",
        "num = int(input(\"Enter a number to find its factorial: \"))\n",
        "factorial = 1\n",
        "i = 1\n",
        "while i <= num:\n",
        "    factorial *= i\n",
        "    i += 1\n",
        "print(f\"The factorial of {num} is {factorial}\")"
      ],
      "metadata": {
        "colab": {
          "base_uri": "https://localhost:8080/"
        },
        "id": "2xBKTpAz-odp",
        "outputId": "9c061a11-86d8-423e-fd12-4ed6b0e09813"
      },
      "execution_count": 80,
      "outputs": [
        {
          "output_type": "stream",
          "name": "stdout",
          "text": [
            "Enter a number to find its factorial: 5\n",
            "The factorial of 5 is 120\n"
          ]
        }
      ]
    }
  ]
}